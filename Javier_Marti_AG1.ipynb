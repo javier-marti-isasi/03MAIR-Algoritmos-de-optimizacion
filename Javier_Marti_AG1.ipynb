{
  "nbformat": 4,
  "nbformat_minor": 0,
  "metadata": {
    "colab": {
      "name": "Javier Marti -AG1.ipynb",
      "provenance": [],
      "authorship_tag": "ABX9TyM6p4kK49/LfJlxq1o5ddd+",
      "include_colab_link": true
    },
    "kernelspec": {
      "name": "python3",
      "display_name": "Python 3"
    }
  },
  "cells": [
    {
      "cell_type": "markdown",
      "metadata": {
        "id": "view-in-github",
        "colab_type": "text"
      },
      "source": [
        "<a href=\"https://colab.research.google.com/github/javier-marti-isasi/03MAIR-Algoritmos-de-optimizacion/blob/main/Javier_Marti_AG1.ipynb\" target=\"_parent\"><img src=\"https://colab.research.google.com/assets/colab-badge.svg\" alt=\"Open In Colab\"/></a>"
      ]
    },
    {
      "cell_type": "markdown",
      "metadata": {
        "id": "ik00OQIPpxmL"
      },
      "source": [
        "#Algoritmos - Actividad guiada 1\r\n",
        "Nombre: Javier Martí<br>\r\n",
        "URL: https://colab.research.google.com/drive/13Z7zzikUx_K0pE2Pw4HjL7ghtip0nL6K?usp=sharing\r\n",
        "\r\n",
        "https://github.com/javier-marti-isasi/03MAIR-Algoritmos-de-optimizacion"
      ]
    },
    {
      "cell_type": "markdown",
      "metadata": {
        "id": "8hjlbOhUvV8k"
      },
      "source": [
        "##Torres de Hanoi con Divide y vencerás"
      ]
    },
    {
      "cell_type": "code",
      "metadata": {
        "colab": {
          "base_uri": "https://localhost:8080/"
        },
        "id": "9cRP8G79p1si",
        "outputId": "177c7d79-0cb7-464b-ca43-cd3576d3c8ad"
      },
      "source": [
        "#N = número de fichas\r\n",
        "#desde = desde la torre número X\r\n",
        "#hasta = hasta la torre número X\r\n",
        "\r\n",
        "def Torres_Hanoi(N,desde, hasta):\r\n",
        "  if N ==1:\r\n",
        "    print(\"Lleva la ficha \", desde, \" hasta \", hasta)\r\n",
        "  \r\n",
        "  else:\r\n",
        "    Torres_Hanoi(N-1, desde, list({1,2,3}-{desde,hasta})[0]) \r\n",
        "    # Torres_Hanoi(N-1, desde, 6-desde-hasta) #tambié podría ser así\r\n",
        "    print(\"Lleva la ficha \", desde, \" hasta \", hasta)\r\n",
        "    Torres_Hanoi(N-1, list({1,2,3}-{desde,hasta})[0], hasta) \r\n",
        "    # Torres_Hanoi(N-1, 6-desde-hasta, hasta) #tambié podría ser así\r\n",
        "\r\n",
        "\r\n",
        "Torres_Hanoi(3, 1, 3)"
      ],
      "execution_count": 8,
      "outputs": [
        {
          "output_type": "stream",
          "text": [
            "Lleva la ficha  1  hasta  3\n",
            "Lleva la ficha  1  hasta  2\n",
            "Lleva la ficha  3  hasta  2\n",
            "Lleva la ficha  1  hasta  3\n",
            "Lleva la ficha  2  hasta  1\n",
            "Lleva la ficha  2  hasta  3\n",
            "Lleva la ficha  1  hasta  3\n"
          ],
          "name": "stdout"
        }
      ]
    },
    {
      "cell_type": "markdown",
      "metadata": {
        "id": "LKrg1qac7I6I"
      },
      "source": [
        "## Devolución de cambio por técnica voraz"
      ]
    },
    {
      "cell_type": "code",
      "metadata": {
        "colab": {
          "base_uri": "https://localhost:8080/"
        },
        "id": "eAWyAOwb7OVR",
        "outputId": "cec95dce-52ca-4ed6-f7c5-cb588a2811c8"
      },
      "source": [
        "#C = Valor al que queremos llegar\r\n",
        "#SM = Sistema monetario\r\n",
        "\r\n",
        "def cambio_monedas(N, SM):\r\n",
        "  SOLUCION = [0]*len(SM) #SOLUCION = [0,0,0,0,...]\r\n",
        "  ValorAcumulado = 0\r\n",
        "\r\n",
        "  for i,valor in enumerate(SM): #enumerate valor + posicion\r\n",
        "    monedas = (N-ValorAcumulado)//valor\r\n",
        "    SOLUCION[i] = monedas\r\n",
        "    ValorAcumulado = ValorAcumulado + monedas*valor\r\n",
        "\r\n",
        "    if ValorAcumulado == N:\r\n",
        "      return SOLUCION\r\n",
        "\r\n",
        "\r\n",
        "cambio_monedas(37, [25,10,5,1])\r\n",
        "\r\n"
      ],
      "execution_count": 18,
      "outputs": [
        {
          "output_type": "execute_result",
          "data": {
            "text/plain": [
              "[1, 1, 0, 2]"
            ]
          },
          "metadata": {
            "tags": []
          },
          "execution_count": 18
        }
      ]
    },
    {
      "cell_type": "markdown",
      "metadata": {
        "id": "IS9JwLsF_M4B"
      },
      "source": [
        "## N-Reinas por técnica de vuelta atrás (Backtracking)"
      ]
    },
    {
      "cell_type": "code",
      "metadata": {
        "colab": {
          "base_uri": "https://localhost:8080/"
        },
        "id": "CmCgMy9H_RR6",
        "outputId": "38256b81-a2d9-465c-9b7a-db8b8e660a70"
      },
      "source": [
        "def escribe(S):\r\n",
        "  n = len(S)\r\n",
        "  for x in range(n):\r\n",
        "    print(\"\")\r\n",
        "    for i in range(n):\r\n",
        "      if S[i] == x+1:\r\n",
        "        print(\" X \" , end=\"\")\r\n",
        "      else:\r\n",
        "        print(\" - \", end=\"\")\r\n",
        "\r\n",
        "\r\n",
        "def es_prometedora(SOLUCION,etapa):\r\n",
        "  #print(SOLUCION)\r\n",
        "  #Si la solución tiene dos valores iguales no es valida => Dos reinas en la misma fila\r\n",
        "  for i in range(etapa+1):\r\n",
        "    #print(\"El valor \" + str(SOLUCION[i]) + \" está \" +  str(SOLUCION.count(SOLUCION[i])) + \" veces\")\r\n",
        "    if SOLUCION.count(SOLUCION[i]) > 1:       \r\n",
        "      return False\r\n",
        "    #Verifica las diagonales\r\n",
        "    for j in range(i+1, etapa +1):\r\n",
        "      #print(\"Comprobando diagonal de \" + str(i) + \" y \" + str(j))\r\n",
        "      if abs(i-j) == abs(SOLUCION[i]-SOLUCION[j]) : return False\r\n",
        "  return True\r\n",
        "\r\n",
        "\r\n",
        "#N = Cantidad de reinas\r\n",
        "#solución = solución\r\n",
        "#etapa = etapa en la que nos encontramos\r\n",
        "\r\n",
        "def reinas(N, solucion=[], etapa=0):\r\n",
        "  if len(solucion) == 0:\r\n",
        "    solucion=[0 for i in range(N)]\r\n",
        "\r\n",
        "  for i in range(1, N+1):\r\n",
        "    solucion[etapa] = i\r\n",
        "\r\n",
        "    if es_prometedora(solucion, etapa):\r\n",
        "      if etapa == N-1: #si estamos al final\r\n",
        "        print(solucion)\r\n",
        "        escribe(solucion)\r\n",
        "        print()\r\n",
        "        print()\r\n",
        "      else:\r\n",
        "        reinas(N, solucion, etapa+1)\r\n",
        "    else:\r\n",
        "      None\r\n",
        "\r\n",
        "    solucion[etapa] = 0\r\n",
        "\r\n",
        "\r\n",
        "\r\n",
        "reinas(4)\r\n",
        "\r\n",
        "\r\n",
        "\r\n"
      ],
      "execution_count": 26,
      "outputs": [
        {
          "output_type": "stream",
          "text": [
            "[2, 4, 1, 3]\n",
            "\n",
            " -  -  X  - \n",
            " X  -  -  - \n",
            " -  -  -  X \n",
            " -  X  -  - \n",
            "\n",
            "[3, 1, 4, 2]\n",
            "\n",
            " -  X  -  - \n",
            " -  -  -  X \n",
            " X  -  -  - \n",
            " -  -  X  - \n",
            "\n"
          ],
          "name": "stdout"
        }
      ]
    }
  ]
}