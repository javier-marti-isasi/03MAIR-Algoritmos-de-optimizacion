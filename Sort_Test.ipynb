{
  "nbformat": 4,
  "nbformat_minor": 0,
  "metadata": {
    "colab": {
      "name": "Sort_Test.ipynb",
      "provenance": [],
      "authorship_tag": "ABX9TyO5hOMqVEYpM3pTl2AiDc3r",
      "include_colab_link": true
    },
    "kernelspec": {
      "name": "python3",
      "display_name": "Python 3"
    }
  },
  "cells": [
    {
      "cell_type": "markdown",
      "metadata": {
        "id": "view-in-github",
        "colab_type": "text"
      },
      "source": [
        "<a href=\"https://colab.research.google.com/github/javier-marti-isasi/03MAIR-Algoritmos-de-optimizacion/blob/main/Sort_Test.ipynb\" target=\"_parent\"><img src=\"https://colab.research.google.com/assets/colab-badge.svg\" alt=\"Open In Colab\"/></a>"
      ]
    },
    {
      "cell_type": "code",
      "metadata": {
        "colab": {
          "base_uri": "https://localhost:8080/"
        },
        "id": "8eUexWTL5Jiu",
        "outputId": "89b48411-3f8b-4e2a-d1fe-53b7b615859e"
      },
      "source": [
        "!pip install sorting"
      ],
      "execution_count": 9,
      "outputs": [
        {
          "output_type": "stream",
          "text": [
            "Collecting sorting\n",
            "  Downloading https://files.pythonhosted.org/packages/5a/a7/97e31ce3b9c16f1041bb94063a2778b666ef8ee5862094c248e9445c454c/sorting-1.0.3.tar.gz\n",
            "Building wheels for collected packages: sorting\n",
            "  Building wheel for sorting (setup.py) ... \u001b[?25l\u001b[?25hdone\n",
            "  Created wheel for sorting: filename=sorting-1.0.3-cp36-none-any.whl size=5883 sha256=44b0274c58917ada4b3d23659975ed115270d26ddf779cbef0b5e206b1478c07\n",
            "  Stored in directory: /root/.cache/pip/wheels/eb/f9/9d/ea128e53c92937b3f10b15f961f100068615df83d0b7c3affc\n",
            "Successfully built sorting\n",
            "Installing collected packages: sorting\n",
            "Successfully installed sorting-1.0.3\n"
          ],
          "name": "stdout"
        }
      ]
    },
    {
      "cell_type": "code",
      "metadata": {
        "colab": {
          "base_uri": "https://localhost:8080/"
        },
        "id": "J2qshjOR-zXc",
        "outputId": "84a83b70-77b5-4dc4-ed50-6c51ac3a224b"
      },
      "source": [
        "import sorting\n",
        "lista = [4,5,32,2,53,67,23]\n",
        "lista_ordenada = sorting.bubble(lista)\n",
        "print(lista_ordenada)"
      ],
      "execution_count": 10,
      "outputs": [
        {
          "output_type": "stream",
          "text": [
            "[2, 4, 5, 23, 32, 53, 67]\n"
          ],
          "name": "stdout"
        }
      ]
    }
  ]
}